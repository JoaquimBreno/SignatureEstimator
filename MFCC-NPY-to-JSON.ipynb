{
 "cells": [
  {
   "cell_type": "code",
   "execution_count": 1,
   "id": "9b00d411-33d6-4700-8cc8-5eaac1c70784",
   "metadata": {},
   "outputs": [],
   "source": [
    "import os\n",
    "import json\n",
    "import numpy as np\n",
    "import matplotlib.pyplot as plt\n",
    "import IPython.display as ipd\n",
    "import warnings\n",
    "import inflect\n",
    "\n",
    "p = inflect.engine()\n",
    "npy_path = \"./mfcc_npy\"\n",
    "\n",
    "# Define a mapping for folder names to JSON file names.\n",
    "json_filenames = {\n",
    "    \"train\": \"data_train_art_4_classes.csv\",\n",
    "    \"val\": \"data_val_4_classes.csv\",\n",
    "    \"test\": \"data_test_4_classes.csv\"\n",
    "}\n",
    "\n",
    "labels_mapping = {\"four\": 0, \"three\": 1, \"five\": 2, \"seven\": 3}\n",
    "\n",
    "# Initialize data structure for each set\n",
    "data_sets = {\n",
    "    \"train\": {\"mfcc\": [], \"labels\": []},\n",
    "    \"val\": {\"mfcc\": [], \"labels\": []},\n",
    "    \"test\": {\"mfcc\": [], \"labels\": []}\n",
    "}\n",
    "\n",
    "# Assume directory structure is ../mfcc_npy/train/0/, ../mfcc_npy/train/1/, etc.\n",
    "for split in data_sets.keys():\n",
    "    split_path = os.path.join(npy_path, split)\n",
    "    if not os.path.isdir(split_path):\n",
    "        continue\n",
    "    \n",
    "    for label_dir in os.listdir(split_path):\n",
    "        label_path = os.path.join(split_path, label_dir)\n",
    "        if not os.path.isdir(label_path):\n",
    "            continue\n",
    "        \n",
    "        word_label = p.number_to_words(label_dir)  # Convert folder name from number to word\n",
    "        mapped_label = labels_mapping.get(word_label, -1)  # Map word label to a number label\n",
    "        \n",
    "        for file in os.listdir(label_path):\n",
    "            if file.endswith(\".npy\"):\n",
    "                file_path = os.path.join(label_path, file)\n",
    "                mfcc = np.load(file_path).T.tolist()\n",
    "                data_sets[split][\"mfcc\"].append(mfcc)\n",
    "                data_sets[split][\"labels\"].append(mapped_label)\n",
    "\n",
    "with open(\"data.json\", \"w\") as fp:\n",
    "    json.dump(data_sets, fp, indent=4)\n",
    "# Write each data set to its corresponding JSON file\n",
    "# for split, data in data_sets.items():\n",
    "#     json_path = json_filenames.get(split)\n",
    "#     if json_path:  # Ensure there's a corresponding JSON file path defined\n",
    "#         with open(json_path.replace(\"csv\",\"json\"), \"w\") as fp:\n",
    "#             json.dump(data, fp, indent=4)"
   ]
  },
  {
   "cell_type": "code",
   "execution_count": null,
   "id": "a72e0175",
   "metadata": {},
   "outputs": [],
   "source": []
  }
 ],
 "metadata": {
  "kernelspec": {
   "display_name": "mfcc",
   "language": "python",
   "name": "python3"
  },
  "language_info": {
   "codemirror_mode": {
    "name": "ipython",
    "version": 3
   },
   "file_extension": ".py",
   "mimetype": "text/x-python",
   "name": "python",
   "nbconvert_exporter": "python",
   "pygments_lexer": "ipython3",
   "version": "3.10.15"
  }
 },
 "nbformat": 4,
 "nbformat_minor": 5
}
