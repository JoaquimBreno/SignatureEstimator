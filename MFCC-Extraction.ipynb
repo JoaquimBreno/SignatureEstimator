{
 "cells": [
  {
   "cell_type": "code",
   "execution_count": 10,
   "id": "fa9c437a-155b-43c1-b456-a79fa10494d7",
   "metadata": {},
   "outputs": [],
   "source": [
    "import os\n",
    "from operator import index\n",
    "import math\n",
    "import pandas as pd\n",
    "import numpy as np\n",
    "import librosa\n",
    "import librosa.display\n",
    "import warnings\n",
    "\n",
    "folder_path = \"./mfcc_npy/\"\n",
    "sample_rate = 22050\n",
    "duration = 30  # mesaured in seconds\n",
    "samples_per_track = sample_rate * duration"
   ]
  },
  {
   "cell_type": "code",
   "execution_count": 11,
   "id": "75707f54",
   "metadata": {},
   "outputs": [
    {
     "name": "stdout",
     "output_type": "stream",
     "text": [
      "Processing train\n",
      "./dataverse_files/data_train_4_classes.csv\n"
     ]
    },
    {
     "name": "stdout",
     "output_type": "stream",
     "text": [
      "Processing val\n",
      "./dataverse_files/data_val_4_classes.csv\n",
      "Processing test\n",
      "./dataverse_files/data_test_4_classes.csv\n"
     ]
    }
   ],
   "source": [
    "def extract_mfcc_into_npy(n_mfcc, hop_length, num_segments, dataset_type, art):\n",
    "    alldata = read_dataset(dataset_type, art)\n",
    "    num_samples_per_segment = int(samples_per_track / num_segments)\n",
    "    expected_num_mfcc_vectors_per_segment = math.ceil(num_samples_per_segment / hop_length)\n",
    "    \n",
    "    for meter, group in alldata.groupby(['meter']):\n",
    "        for index, song in group.iterrows():\n",
    "            path = os.path.relpath(\"./dataverse_files/\" + song[\"filename\"])\n",
    "            signal, sr = librosa.load(path, sr=sample_rate)\n",
    "            name = os.path.basename(song[\"filename\"]).replace(\".wav\",\"\")\n",
    "            for s in range(num_segments):\n",
    "                start_sample = num_samples_per_segment * s\n",
    "                finish_sample = start_sample + num_samples_per_segment\n",
    "\n",
    "                mfcc = librosa.feature.mfcc(y=signal[start_sample:finish_sample], n_mfcc=n_mfcc, sr=sr, hop_length=hop_length)\n",
    "                mfcc = mfcc.T\n",
    "\n",
    "                if len(mfcc) == expected_num_mfcc_vectors_per_segment:\n",
    "                    target_dir = os.path.join(folder_path, dataset_type, str(meter[0]))\n",
    "                    os.makedirs(target_dir, exist_ok=True)\n",
    "                    npy_filename = f\"{name}-{s}.npy\"\n",
    "                    np.save(os.path.join(target_dir, npy_filename), mfcc)\n",
    "\n",
    "def read_dataset(dataset_type, art=False):\n",
    "    if art!=False and dataset_type == \"train\":\n",
    "        dataset_type=dataset_type+'_art'\n",
    "    file_name = f\"./dataverse_files/data_{dataset_type}_4_classes.csv\"\n",
    "    print(file_name)\n",
    "    return pd.read_csv(file_name)\n",
    "\n",
    "def main():\n",
    "    n_mfcc = 13\n",
    "    hop_length = 512\n",
    "    num_segments = 10\n",
    "    art = False\n",
    "    # For each dataset type\n",
    "    for dataset_type in ['train', 'val', 'test']:\n",
    "        print(f\"Processing {dataset_type}\")\n",
    "        extract_mfcc_into_npy(n_mfcc, hop_length, num_segments, dataset_type, art)\n",
    "\n",
    "if __name__ == \"__main__\":\n",
    "    main()"
   ]
  },
  {
   "cell_type": "code",
   "execution_count": null,
   "id": "d3f386e8",
   "metadata": {},
   "outputs": [],
   "source": []
  }
 ],
 "metadata": {
  "kernelspec": {
   "display_name": "mfcc",
   "language": "python",
   "name": "python3"
  },
  "language_info": {
   "codemirror_mode": {
    "name": "ipython",
    "version": 3
   },
   "file_extension": ".py",
   "mimetype": "text/x-python",
   "name": "python",
   "nbconvert_exporter": "python",
   "pygments_lexer": "ipython3",
   "version": "3.10.15"
  }
 },
 "nbformat": 4,
 "nbformat_minor": 5
}
